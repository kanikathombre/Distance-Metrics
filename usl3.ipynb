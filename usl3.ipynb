{
  "nbformat": 4,
  "nbformat_minor": 0,
  "metadata": {
    "colab": {
      "provenance": []
    },
    "kernelspec": {
      "name": "python3",
      "display_name": "Python 3"
    },
    "language_info": {
      "name": "python"
    }
  },
  "cells": [
    {
      "cell_type": "code",
      "execution_count": 2,
      "metadata": {
        "id": "hwOGK9triOPJ"
      },
      "outputs": [],
      "source": [
        "from sklearn.datasets import load_iris\n",
        "from sklearn.metrics.pairwise import euclidean_distances, manhattan_distances, pairwise_distances\n",
        "from scipy.spatial import distance\n",
        "import numpy as np"
      ]
    },
    {
      "cell_type": "code",
      "source": [
        "# Load Iris dataset\n",
        "iris = load_iris()\n",
        "data = iris.data"
      ],
      "metadata": {
        "id": "ZKradtNZiTX0"
      },
      "execution_count": 3,
      "outputs": []
    },
    {
      "cell_type": "code",
      "source": [
        "# Select two random samples from the dataset\n",
        "sample1 = data[0]\n",
        "sample2 = data[12]"
      ],
      "metadata": {
        "id": "7MwZoiGwj3db"
      },
      "execution_count": 4,
      "outputs": []
    },
    {
      "cell_type": "markdown",
      "source": [
        "## i. Euclidean Distance\n"
      ],
      "metadata": {
        "id": "m8OGYq1Bkccc"
      }
    },
    {
      "cell_type": "code",
      "source": [
        "# Euclidean Distance\n",
        "euclidean_dist = distance.euclidean(sample1, sample2)\n",
        "print(\"Euclidean Distance between sample 1 and sample 2:\", euclidean_dist)"
      ],
      "metadata": {
        "colab": {
          "base_uri": "https://localhost:8080/"
        },
        "id": "lTycdLOSiVKD",
        "outputId": "f51c7ac0-d801-4267-b223-cd232445dd9a"
      },
      "execution_count": 5,
      "outputs": [
        {
          "output_type": "stream",
          "name": "stdout",
          "text": [
            "Euclidean Distance between sample 1 and sample 2: 0.5916079783099615\n"
          ]
        }
      ]
    },
    {
      "cell_type": "markdown",
      "source": [
        "## ii. Manhattan Distance\n"
      ],
      "metadata": {
        "id": "hW2Ll-OzkkEn"
      }
    },
    {
      "cell_type": "code",
      "source": [
        "# Manhattan Distance\n",
        "manhattan_dist = distance.cityblock(sample1, sample2)\n",
        "print(\"Manhattan Distance between sample 1 and sample 2:\", manhattan_dist)"
      ],
      "metadata": {
        "colab": {
          "base_uri": "https://localhost:8080/"
        },
        "id": "SZx_Kw0jiTUV",
        "outputId": "cd9be053-0698-4074-e1bf-d9a3aea92440"
      },
      "execution_count": 6,
      "outputs": [
        {
          "output_type": "stream",
          "name": "stdout",
          "text": [
            "Manhattan Distance between sample 1 and sample 2: 0.8999999999999998\n"
          ]
        }
      ]
    },
    {
      "cell_type": "markdown",
      "source": [
        "## iii. Minkowski distance"
      ],
      "metadata": {
        "id": "-y76fPTzkm9h"
      }
    },
    {
      "cell_type": "code",
      "source": [
        "# Minkowski Distance with p=3\n",
        "minkowski_dist = distance.minkowski(sample1, sample2, p=3)\n",
        "print(\"Minkowski Distance (p=3) between sample 1 and sample 2:\", minkowski_dist)"
      ],
      "metadata": {
        "colab": {
          "base_uri": "https://localhost:8080/"
        },
        "id": "wDMGGk3miTSS",
        "outputId": "a5c29a76-2130-4df2-d947-a9e96f529e90"
      },
      "execution_count": 7,
      "outputs": [
        {
          "output_type": "stream",
          "name": "stdout",
          "text": [
            "Minkowski Distance (p=3) between sample 1 and sample 2: 0.5348481241239363\n"
          ]
        }
      ]
    },
    {
      "cell_type": "code",
      "source": [
        "from sklearn.datasets import load_iris\n",
        "from sklearn.metrics.pairwise import pairwise_distances\n",
        "import numpy as np"
      ],
      "metadata": {
        "id": "6QcXbtnRnM3s"
      },
      "execution_count": 8,
      "outputs": []
    },
    {
      "cell_type": "code",
      "source": [
        "# Function to compute Jaccard Distance between two boolean-valued vectors\n",
        "def jaccard_distance(u, v):\n",
        "    intersection = np.sum(np.logical_and(u, v))\n",
        "    union = np.sum(np.logical_or(u, v))\n",
        "    return 1.0 - (intersection / union)"
      ],
      "metadata": {
        "id": "KPmylwmUnM0U"
      },
      "execution_count": 9,
      "outputs": []
    },
    {
      "cell_type": "code",
      "source": [
        "# Load the iris dataset\n",
        "iris = load_iris()\n",
        "data = iris.data"
      ],
      "metadata": {
        "id": "zll5kknrnTAl"
      },
      "execution_count": 10,
      "outputs": []
    },
    {
      "cell_type": "code",
      "source": [
        "# Convert iris dataset to boolean-valued vectors\n",
        "binary_data = np.where(data > np.mean(data), 1, 0)"
      ],
      "metadata": {
        "id": "Cj5B9CNKnS8j"
      },
      "execution_count": 11,
      "outputs": []
    },
    {
      "cell_type": "code",
      "source": [
        "# Calculate average Jaccard Distance\n",
        "total_distance = 0\n",
        "num_pairs = 0\n",
        "for i in range(len(binary_data)):\n",
        "    for j in range(i+1, len(binary_data)):\n",
        "        total_distance += jaccard_distance(binary_data[i], binary_data[j])\n",
        "        num_pairs += 1"
      ],
      "metadata": {
        "id": "2skwIxulnX2j"
      },
      "execution_count": 12,
      "outputs": []
    },
    {
      "cell_type": "code",
      "source": [
        "average_jaccard_distance = total_distance / num_pairs\n",
        "print(\"Average Jaccard Distance:\", average_jaccard_distance)"
      ],
      "metadata": {
        "colab": {
          "base_uri": "https://localhost:8080/"
        },
        "id": "a05Fo2XYrklS",
        "outputId": "743810c9-a369-4767-e715-2fba475d8a47"
      },
      "execution_count": 13,
      "outputs": [
        {
          "output_type": "stream",
          "name": "stdout",
          "text": [
            "Average Jaccard Distance: 0.30019388516032447\n"
          ]
        }
      ]
    },
    {
      "cell_type": "code",
      "source": [],
      "metadata": {
        "id": "pHmnTcjrr1lu"
      },
      "execution_count": 13,
      "outputs": []
    }
  ]
}